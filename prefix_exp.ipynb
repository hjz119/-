{
 "cells": [
  {
   "cell_type": "code",
   "execution_count": 24,
   "metadata": {},
   "outputs": [
    {
     "data": {
      "text/plain": [
       "'mul(add(1,2),2)'"
      ]
     },
     "execution_count": 24,
     "metadata": {},
     "output_type": "execute_result"
    }
   ],
   "source": [
    "def cal_1 (s):\n",
    "    s = s.strip().replace('(','',1)[::-1].replace(')','',1)[::-1].strip()\n",
    "    if ' ' not in s :\n",
    "        return s  #just a number\n",
    "    else:\n",
    "        tmp = s.split(' ',1)\n",
    "        opt = tmp[0].strip()\n",
    "        temp = tmp[1].strip()\n",
    "        left = 0       \n",
    "        right = 0\n",
    "        for i in range(len(temp)):\n",
    "            if temp[i] == '(':\n",
    "                left += 1\n",
    "            if temp[i] == ')':\n",
    "                right += 1\n",
    "            if temp[i] == ' ' and left==right :\n",
    "                break\n",
    "        \n",
    "        data1 = temp[:i]\n",
    "        data2 = temp[i:]\n",
    " \n",
    "        v1 = cal_1(data1)\n",
    "        v2 = cal_1(data2)\n",
    "        if opt == 'add':\n",
    "            return 'add('+v1+','+v2+')'\n",
    "        elif opt == 'sub':\n",
    "            return 'sub('+v1+','+v2+')'\n",
    "        elif opt == 'mul':\n",
    "            return 'mul('+v1+','+v2+')'\n",
    "        elif opt == 'div':\n",
    "            return 'div('+v1+','+v2+')'\n",
    "        elif opt == 'mod':\n",
    "            return 'mod('+v1+','+v2+')'\n",
    "        else:\n",
    "            return 0\n",
    "\n",
    "cal_1 ('(mul (add 1 2) 2)') "
   ]
  },
  {
   "cell_type": "code",
   "execution_count": null,
   "metadata": {},
   "outputs": [],
   "source": []
  }
 ],
 "metadata": {
  "kernelspec": {
   "display_name": "Python 3",
   "language": "python",
   "name": "python3"
  },
  "language_info": {
   "codemirror_mode": {
    "name": "ipython",
    "version": 3
   },
   "file_extension": ".py",
   "mimetype": "text/x-python",
   "name": "python",
   "nbconvert_exporter": "python",
   "pygments_lexer": "ipython3",
   "version": "3.7.1"
  }
 },
 "nbformat": 4,
 "nbformat_minor": 2
}
