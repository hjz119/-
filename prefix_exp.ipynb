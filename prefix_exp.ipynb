{
 "cells": [
  {
   "cell_type": "code",
   "execution_count": 24,
   "metadata": {},
   "outputs": [
    {
     "data": {
      "text/plain": [
       "'mul(add(1,2),2)'"
      ]
     },
     "execution_count": 24,
     "metadata": {},
     "output_type": "execute_result"
    }
   ],
   "source": [
    "def cal_1 (s):\n",
    "    s = s.strip().replace('(','',1)[::-1].replace(')','',1)[::-1].strip()#去除首尾括号，如(mul (add 1 2) 2)变为mul (add 1 2) 2\n",
    "    if ' ' not in s :\n",
    "        return s  #just a number\n",
    "    else:\n",
    "        tmp = s.split(' ',1)#以空格为分隔符，分成两部分['mul', '(add 1 2) 2']\n",
    "        opt = tmp[0].strip()#mul\n",
    "        temp = tmp[1].strip()#(add 1 2) 2\n",
    "        left = 0       \n",
    "        right = 0\n",
    "        for i in range(len(temp)):\n",
    "            if temp[i] == '(':\n",
    "                left += 1\n",
    "            if temp[i] == ')':\n",
    "                right += 1\n",
    "            if temp[i] == ' ' and left==right :\n",
    "                break\n",
    "        \n",
    "        data1 = temp[:i]#(add 1 2) 操作数1\n",
    "        data2 = temp[i:]#' 2' 操作数2\n",
    " \n",
    "        v1 = cal_1(data1)#add(1,2)\n",
    "        v2 = cal_1(data2)#2\n",
    "        if opt == 'add':\n",
    "            return 'add('+v1+','+v2+')'\n",
    "        elif opt == 'sub':\n",
    "            return 'sub('+v1+','+v2+')'\n",
    "        elif opt == 'mul':\n",
    "            return 'mul('+v1+','+v2+')'#mul(add(1,2),2)\n",
    "        elif opt == 'div':\n",
    "            return 'div('+v1+','+v2+')'\n",
    "        elif opt == 'mod':\n",
    "            return 'mod('+v1+','+v2+')'\n",
    "        else:\n",
    "            return 0\n",
    "\n",
    "        \n",
    "\n",
    "cal_1 ('(mul (add 1 2) 2)') "
   ]
  },
  {
   "cell_type": "code",
   "execution_count": 5,
   "metadata": {},
   "outputs": [
    {
     "name": "stdout",
     "output_type": "stream",
     "text": [
      "['mul', '(add 1 2) 2']\n",
      "mul\n",
      "(add 1 2) 2\n",
      "(add 1 2)\n"
     ]
    },
    {
     "data": {
      "text/plain": [
       "' 2'"
      ]
     },
     "execution_count": 5,
     "metadata": {},
     "output_type": "execute_result"
    }
   ],
   "source": [
    "s='(mul (add 1 2) 2)'\n",
    "s = s.strip().replace('(','',1)[::-1].replace(')','',1)[::-1].strip()\n",
    "tmp = s.split(' ',1)#以空格为分隔符，分成两部分\n",
    "opt = tmp[0].strip()#mul\n",
    "temp = tmp[1].strip()#(add 1 2) 2\n",
    "print(tmp)\n",
    "print(opt)\n",
    "print(temp)\n",
    "left = 0       \n",
    "right = 0\n",
    "for i in range(len(temp)):\n",
    "    if temp[i] == '(':\n",
    "        left += 1\n",
    "    if temp[i] == ')':\n",
    "        right += 1\n",
    "    if temp[i] == ' ' and left==right :\n",
    "        break\n",
    "data1 = temp[:i]#(add 1 2)\n",
    "data2 = temp[i:]#2\n",
    "        \n",
    "print(data1)\n",
    "data2"
   ]
  },
  {
   "cell_type": "code",
   "execution_count": 2,
   "metadata": {},
   "outputs": [
    {
     "name": "stdout",
     "output_type": "stream",
     "text": [
      "6.0\n",
      "2.0\n",
      "e\n",
      "e\n"
     ]
    }
   ],
   "source": [
    "def cal_2 (s):\n",
    "    s = s.strip().replace('(','',1)[::-1].replace(')','',1)[::-1].strip()#去除首尾括号，如(mul (add 1 2) 2)变为mul (add 1 2) 2\n",
    "    if ' ' not in s :\n",
    "        if s=='e':\n",
    "            return s\n",
    "        else:\n",
    "            return float(s)  #just a number\n",
    "    else:\n",
    "        tmp = s.split(' ',1)#以空格为分隔符，分成两部分['mul', '(add 1 2) 2']\n",
    "        opt = tmp[0].strip()#mul\n",
    "        temp = tmp[1].strip()#(add 1 2) 2\n",
    "        left = 0       \n",
    "        right = 0\n",
    "        for i in range(len(temp)):\n",
    "            if temp[i] == '(':\n",
    "                left += 1\n",
    "            if temp[i] == ')':\n",
    "                right += 1\n",
    "            if temp[i] == ' ' and left==right :\n",
    "                break\n",
    "        \n",
    "        data1 = temp[:i]#(add 1 2) 操作数1\n",
    "        data2 = temp[i:]#' 2' 操作数2\n",
    " \n",
    "        v1 = cal_2(data1)#(add 1 2)的结果3\n",
    "        v2 = cal_2(data2)#2\n",
    "        if v1=='e' or v2=='e': #捕获异常\n",
    "            return 'e'\n",
    "        if opt == 'add':\n",
    "            return v1+v2\n",
    "        elif opt == 'sub':\n",
    "            return v1-v2\n",
    "        elif opt == 'mul':\n",
    "            return v1*v2  #3*2=6\n",
    "        elif opt == 'div':\n",
    "            if v2==0:    #除数为0，捕获异常\n",
    "                return 'e'\n",
    "            else:\n",
    "                return v1/v2\n",
    "        elif opt == 'mod':\n",
    "            if v2==0:\n",
    "                return 'e'\n",
    "            else:\n",
    "                return v1%v2\n",
    "        else:\n",
    "            return 0\n",
    "        \n",
    "print(cal_2 ('(mul (add 1 2) 2)') )\n",
    "print(cal_2 ('(mod 5 3)'))\n",
    "print(cal_2 ('(mul e 5)'))\n",
    "print(cal_2 ('(div 5 0)'))"
   ]
  },
  {
   "cell_type": "code",
   "execution_count": 11,
   "metadata": {},
   "outputs": [
    {
     "name": "stdout",
     "output_type": "stream",
     "text": [
      "int\n",
      "error\n",
      "bool\n",
      "error\n",
      "bool\n",
      "error\n",
      "bool\n",
      "error\n"
     ]
    }
   ],
   "source": [
    "def cal_3 (s):\n",
    "    s = s.strip().replace('(','',1)[::-1].replace(')','',1)[::-1].strip()#去除首尾括号（代替，翻转，代替，翻转），如(mul (add 1 2) 2)变为mul (add 1 2) 2\n",
    "    if ' ' not in s :\n",
    "        if s.isdigit():#isdigit字符串是小数也返False，所以字符串是整数返回'int'\n",
    "            return 'int'\n",
    "        if s=='T' or s=='F':\n",
    "            return 'bool'  #如果是T或者F，返回'bool'\n",
    "    else:\n",
    "        tmp = s.split(' ',1)#以空格为分隔符，分成两部分['mul', '(add 1 2) 2']\n",
    "        opt = tmp[0].strip()#mul\n",
    "        temp = tmp[1].strip()#(add 1 2) 2\n",
    "        left = 0       \n",
    "        right = 0\n",
    "        for i in range(len(temp)):\n",
    "            if temp[i] == '(':\n",
    "                left += 1\n",
    "            if temp[i] == ')':\n",
    "                right += 1\n",
    "            if temp[i] == ' ' and left==right :\n",
    "                break\n",
    "    \n",
    "        data1 = temp[:i]#(add 1 2) 操作数1\n",
    "        data2 = temp[i:]#' 2' 操作数2\n",
    "    \n",
    "        v1 = cal_3(data1)#(add 1 2)的结果'int'\n",
    "        v2 = cal_3(data2)#2的类型结果'int'\n",
    "    \n",
    "            \n",
    "        if opt=='add' or opt=='sub':\n",
    "            if v1=='int' and v2=='int':\n",
    "                return 'int'\n",
    "            else:\n",
    "                return 'error'\n",
    "        if opt=='gt' or opt=='lt' or opt=='equ':\n",
    "            if v1=='int' and v2=='int':\n",
    "                return 'bool'\n",
    "            else:\n",
    "                return 'error'\n",
    "        if opt=='and' or opt=='or':\n",
    "            if v1=='bool' and v2=='bool':\n",
    "                return 'bool'\n",
    "            else:\n",
    "                return 'error'\n",
    "        if opt=='not':\n",
    "            if v2=='bool':\n",
    "                return 'bool'\n",
    "            else:\n",
    "                return 'error'\n",
    "            \n",
    "        \n",
    "print(cal_3 ('(add 5 3)'))\n",
    "print(cal_3 ('(add 5 T)'))\n",
    "print(cal_3 ('(gt (add 5 3) (sub 5 3))'))\n",
    "print(cal_3 ('(gt (add 5 3) (lt 5 3))'))\n",
    "print(cal_3 ('(and T F)'))\n",
    "print(cal_3 ('(or (add 5 3) T)'))\n",
    "print(cal_3 ('(not F)'))\n",
    "print(cal_3 ('(not 5)'))"
   ]
  },
  {
   "cell_type": "code",
   "execution_count": 16,
   "metadata": {},
   "outputs": [
    {
     "data": {
      "text/plain": [
       "')cba'"
      ]
     },
     "execution_count": 16,
     "metadata": {},
     "output_type": "execute_result"
    }
   ],
   "source": [
    "s='(abc)'\n",
    "s = s.strip().replace('(','',1)[::-1]\n",
    "s"
   ]
  },
  {
   "cell_type": "code",
   "execution_count": null,
   "metadata": {},
   "outputs": [],
   "source": []
  }
 ],
 "metadata": {
  "kernelspec": {
   "display_name": "Python 3",
   "language": "python",
   "name": "python3"
  },
  "language_info": {
   "codemirror_mode": {
    "name": "ipython",
    "version": 3
   },
   "file_extension": ".py",
   "mimetype": "text/x-python",
   "name": "python",
   "nbconvert_exporter": "python",
   "pygments_lexer": "ipython3",
   "version": "3.7.1"
  }
 },
 "nbformat": 4,
 "nbformat_minor": 2
}
