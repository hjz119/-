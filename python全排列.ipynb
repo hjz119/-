{
 "cells": [
  {
   "cell_type": "code",
   "execution_count": 4,
   "metadata": {},
   "outputs": [
    {
     "name": "stdout",
     "output_type": "stream",
     "text": [
      "[1, 2, 2, 4]\n",
      "[1, 2, 4, 2]\n",
      "[1, 2, 2, 4]\n",
      "[1, 2, 4, 2]\n",
      "[1, 4, 2, 2]\n",
      "[1, 4, 2, 2]\n",
      "[2, 1, 2, 4]\n",
      "[2, 1, 4, 2]\n",
      "[2, 2, 1, 4]\n",
      "[2, 2, 4, 1]\n",
      "[2, 4, 2, 1]\n",
      "[2, 4, 1, 2]\n",
      "[2, 2, 1, 4]\n",
      "[2, 2, 4, 1]\n",
      "[2, 1, 2, 4]\n",
      "[2, 1, 4, 2]\n",
      "[2, 4, 1, 2]\n",
      "[2, 4, 2, 1]\n",
      "[4, 2, 2, 1]\n",
      "[4, 2, 1, 2]\n",
      "[4, 2, 2, 1]\n",
      "[4, 2, 1, 2]\n",
      "[4, 1, 2, 2]\n",
      "[4, 1, 2, 2]\n",
      "24\n"
     ]
    }
   ],
   "source": [
    "COUNT=0\n",
    "repeat=[]\n",
    "def perm(n,begin,end):\n",
    "    global COUNT\n",
    "    global repeat\n",
    "    if begin>=end:\n",
    "        \n",
    "        #COUNT +=1\n",
    "    else:\n",
    "        i=begin\n",
    "        for num in range(begin,end):\n",
    "            n[num],n[i]=n[i],n[num]\n",
    "            perm(n,begin+1,end)\n",
    "            n[num],n[i]=n[i],n[num]\n",
    " \n",
    "n=[1,2,2,4]\n",
    "perm(n,0,len(n))\n",
    "print(COUNT)"
   ]
  },
  {
   "cell_type": "code",
   "execution_count": 5,
   "metadata": {},
   "outputs": [
    {
     "name": "stdout",
     "output_type": "stream",
     "text": [
      "['abc', 'acb', 'bac', 'bca', 'cab', 'cba']\n",
      "CPUtime: 0.00024894299999989045\n",
      "['aac', 'aca', 'caa']\n",
      "CPUtime: 0.00015164899999997594\n"
     ]
    }
   ],
   "source": [
    "import time\n",
    "def Permutation(ss):\n",
    "    list = []\n",
    "    if len(ss) <= 1:\n",
    "        return ss\n",
    "    for i in range(len(ss)):\n",
    "        for j in map(lambda x: ss[i]+x, Permutation(ss[:i]+ss[i+1:])):\n",
    "            if j not in list:\n",
    "                list.append(j)\n",
    "    return list\n",
    "\n",
    "start=time.process_time()\n",
    "print(Permutation('abc'))\n",
    "end=time.process_time()\n",
    "print(\"CPUtime:\",end-start)\n",
    "\n",
    "start=time.process_time()\n",
    "print(Permutation('aac'))\n",
    "end=time.process_time()\n",
    "print(\"CPUtime:\",end-start)\n"
   ]
  },
  {
   "cell_type": "code",
   "execution_count": 6,
   "metadata": {},
   "outputs": [
    {
     "name": "stdout",
     "output_type": "stream",
     "text": [
      "['abc', 'acb', 'bac', 'bca', 'cab', 'cba']\n",
      "CPUtime: 0.00042542800000000547\n",
      "['aac', 'aca', 'caa']\n",
      "CPUtime: 0.000647767999999882\n"
     ]
    }
   ],
   "source": [
    "def nextstate(arg):\n",
    "    flag = False\n",
    "    #步骤1\n",
    "    for i in range(len(arg)-2,-1,-1):#下标从n-2到0的一组数字\n",
    "        if(arg[i] < arg[i+1]):\n",
    "            flag = True\n",
    "            break\n",
    "    if flag:\n",
    "        k = i\n",
    "    else:\n",
    "        return False\n",
    "\n",
    "    #步骤2\n",
    "    for i in range(len(arg)-1,k,-1):#从n-1到k+1\n",
    "        if arg[i] > arg[k]:\n",
    "            break\n",
    "    j = i\n",
    "    #步骤3\n",
    "    arg[j],arg[k] = arg[k],arg[j]\n",
    "    t = arg[k+1:]\n",
    "    t.reverse()\n",
    "    arg[k+1:] = t\n",
    "    return True\n",
    "\n",
    "\n",
    "def dictgenerate(arg):\n",
    "    myarg = list(range(len(arg)))\n",
    "    order = []\n",
    "    t = ''\n",
    "    for i in myarg:\n",
    "        t+=arg[i]\n",
    "    order.append(t)\n",
    "    while True:\n",
    "        t = ''\n",
    "        flag = nextstate(myarg)\n",
    "        if flag == False:\n",
    "            break\n",
    "        for i in myarg:\n",
    "            t+=arg[i]\n",
    "        if t not in order:\n",
    "            order.append(t)\n",
    "    return order\n",
    "\n",
    "start=time.process_time()\n",
    "print(dictgenerate('abc'))\n",
    "end=time.process_time()\n",
    "print(\"CPUtime:\",end-start)\n",
    "\n",
    "start=time.process_time()\n",
    "print(dictgenerate('aac'))\n",
    "end=time.process_time()\n",
    "print(\"CPUtime:\",end-start)"
   ]
  },
  {
   "cell_type": "code",
   "execution_count": null,
   "metadata": {},
   "outputs": [],
   "source": []
  }
 ],
 "metadata": {
  "kernelspec": {
   "display_name": "Python 3",
   "language": "python",
   "name": "python3"
  },
  "language_info": {
   "codemirror_mode": {
    "name": "ipython",
    "version": 3
   },
   "file_extension": ".py",
   "mimetype": "text/x-python",
   "name": "python",
   "nbconvert_exporter": "python",
   "pygments_lexer": "ipython3",
   "version": "3.7.1"
  }
 },
 "nbformat": 4,
 "nbformat_minor": 2
}
