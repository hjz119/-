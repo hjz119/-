{
 "cells": [
  {
   "cell_type": "code",
   "execution_count": 2,
   "metadata": {},
   "outputs": [
    {
     "name": "stdout",
     "output_type": "stream",
     "text": [
      "hjz-VirtualBox\n",
      "127.0.1.1\n"
     ]
    }
   ],
   "source": [
    "import socket\n",
    "#获取本机电脑名\n",
    "myname = socket.getfqdn(socket.gethostname(  ))\n",
    "#获取本机ip\n",
    "myaddr = socket.gethostbyname(myname)\n",
    "print(myname)\n",
    "print(myaddr)"
   ]
  },
  {
   "cell_type": "code",
   "execution_count": 3,
   "metadata": {},
   "outputs": [
    {
     "name": "stdout",
     "output_type": "stream",
     "text": [
      "14.215.177.39\n"
     ]
    }
   ],
   "source": [
    "def getIp(domain):\n",
    "    import socket\n",
    "    myaddr = socket.getaddrinfo(domain,'http')[0][4][0]\n",
    "    print(myaddr)\n",
    "getIp('www.baidu.com')"
   ]
  },
  {
   "cell_type": "code",
   "execution_count": 15,
   "metadata": {},
   "outputs": [
    {
     "name": "stdout",
     "output_type": "stream",
     "text": [
      "下载成功，文件大小为： 60151 字节\n"
     ]
    }
   ],
   "source": [
    "import urllib\n",
    "import os\n",
    "url='http://www.szu.edu.cn'\n",
    "filepath='szu.html'\n",
    "urllib.request.urlretrieve(url,filepath)\n",
    "print('下载成功，文件大小为：',os.path.getsize(filepath),'字节')"
   ]
  },
  {
   "cell_type": "code",
   "execution_count": null,
   "metadata": {
    "scrolled": true
   },
   "outputs": [
    {
     "name": "stdout",
     "output_type": "stream",
     "text": [
      "服务器启动完毕\n",
      "创建客户连接\n",
      "服务器接收消息： Time\n",
      "服务器发送消息： b'Thu, Apr 04 21:34'\n",
      "服务器接收消息： exit\n",
      "服务器发送消息：Bye\n"
     ]
    }
   ],
   "source": [
    "import socket\n",
    "import threading\n",
    "from datetime import datetime\n",
    "def tcplink(sock, addr):\n",
    "    print(\"创建客户连接\")\n",
    "    while True:\n",
    "        data = sock.recv(1024)\n",
    "        print(\"服务器接收消息：\",data.decode('utf-8'))\n",
    "        #time.sleep(1)\n",
    "        if not data or data.decode('utf-8') == 'exit':\n",
    "            sock.send(b'Bye')\n",
    "            print('服务器发送消息：Bye')\n",
    "            break\n",
    "        now=(datetime.now()).strftime('%a, %b %d %H:%M')\n",
    "        sock.send(now.encode('ascii'))\n",
    "        print('服务器发送消息：',now.encode('ascii'))\n",
    "    sock.close()\n",
    "s = socket.socket(socket.AF_INET, socket.SOCK_STREAM)\n",
    "# 监听端口:\n",
    "s.bind(('127.0.0.1', 6666))\n",
    "s.listen(5)\n",
    "print(\"服务器启动完毕\")\n",
    "#print('Waiting for connection...')\n",
    "while True:\n",
    "    # 接受一个新连接:\n",
    "    sock, addr = s.accept()\n",
    "    # 创建新线程来处理TCP连接:\n",
    "    t = threading.Thread(target=tcplink, args=(sock, addr))\n",
    "    t.start()\n",
    "\n"
   ]
  },
  {
   "cell_type": "code",
   "execution_count": 1,
   "metadata": {},
   "outputs": [
    {
     "name": "stdout",
     "output_type": "stream",
     "text": [
      "Thu, Apr 04 21:33\n",
      "b'Thu, Apr 04 21:33'\n"
     ]
    }
   ],
   "source": [
    "from datetime import datetime\n",
    "now=(datetime.now()).strftime('%a, %b %d %H:%M')\n",
    "print(now)\n",
    "print(now.encode('ascii'))"
   ]
  },
  {
   "cell_type": "code",
   "execution_count": null,
   "metadata": {},
   "outputs": [],
   "source": [
    "from tkinter import *\n",
    "import time\n",
    "import socket\n",
    "import threading\n",
    "\n",
    "sock = socket.socket(type=socket.SOCK_DGRAM)\n",
    "sock.bind(('127.0.0.1', 8080))\n",
    "\n",
    "def rec(sock):  \n",
    "    while True:  \n",
    "        data, addr = sock.recvfrom(1024)#接收\n",
    "        msg = 'client'+time.strftime('%Y-%m-%d %H:%M:%S',time.localtime())+'\\n'#显示发送信息\n",
    "        txt_msglist.insert(END,msg,'green') #添加时间 \n",
    "        txt_msglist.insert(END,data.decode('utf-8')+'\\n')\n",
    "        \n",
    "\n",
    "'''\n",
    "定义消息发送函数：\n",
    "1、在<消息列表分区>的文本控件中实时添加时间；\n",
    "2、获取<发送消息分区>的文本内容，添加到列表分区的文本中；\n",
    "3、将<发送消息分区>的文本内容清空。\n",
    "'''\n",
    "def msgsend():  \n",
    "    messages = txt_msgsend.get('0.0',END).strip().encode('utf-8') #发送\n",
    "    sock.sendto(messages, ('127.0.0.1', 8081))\n",
    "    \n",
    "    msg = 'server'+time.strftime('%Y-%m-%d %H:%M:%S',time.localtime())+'\\n'#显示发送信息\n",
    "    txt_msglist.insert(END,msg,'green') #添加时间 \n",
    "    txt_msglist.insert(END,txt_msgsend.get('0.0',END)) #获取发送消息，添加文本到消息列表\n",
    "    txt_msgsend.delete('0.0',END) #清空发送消息\n",
    " \n",
    "'''定义取消发送 消息 函数'''\n",
    "def cancel():\n",
    "    txt_msgsend.delete('0.0',END) #取消发送消息，即清空发送消息\n",
    " \n",
    "'''绑定up键'''\n",
    "def msgsendEvent(event):\n",
    "    if event.keysym == 'Up':\n",
    "        msgsend()\n",
    "        \n",
    "trd=threading.Thread(target=rec,args=(sock,))  \n",
    "trd.start()  \n",
    "\n",
    "tk = Tk() \n",
    "tk.title('服务器聊天窗口')\n",
    " \n",
    "'''创建分区'''\n",
    "f_msglist = Frame(height = 300,width = 300) #创建<消息列表分区 >  \n",
    "f_msgsend = Frame(height = 300,width = 300) #创建<发送消息分区 >\n",
    "f_floor = Frame(height = 100,width = 300)   #创建<按钮分区>\n",
    "\n",
    " \n",
    "'''创建控件'''\n",
    "txt_msglist = Text(f_msglist) #消息列表分区中创建文本控件\n",
    "txt_msglist.tag_config('green',foreground = 'blue') #消息列表分区中创建标签\n",
    "txt_msgsend = Text(f_msgsend) #发送消息分区中创建文本控件\n",
    "txt_msgsend.bind('<KeyPress-Up>',msgsendEvent) #发送消息分区中，绑定‘UP’键与消息发送。\n",
    "'''txt_right = Text(f_right) #图片显示分区创建文本控件'''\n",
    "button_send = Button(f_floor,text = 'Send',command = msgsend) #按钮分区中创建按钮并绑定发送消息函数\n",
    "button_cancel = Button(f_floor,text = 'Cancel',command = cancel) #分区中创建取消按钮并绑定取消函数\n",
    "\n",
    "'''分区布局'''\n",
    "f_msglist.grid(row = 0,column = 0 ) #消息列表分区\n",
    "f_msgsend.grid(row = 1,column = 0)  #发送消息分区\n",
    "f_floor.grid(row = 2,column = 0)    #按钮分区\n",
    "\n",
    "txt_msglist.grid()  #消息列表文本控件加载\n",
    "txt_msgsend.grid()  #消息发送文本控件加载\n",
    "button_send.grid(row = 0,column = 0,sticky = W)   #发送按钮控件加载\n",
    "button_cancel.grid(row = 0,column = 1,sticky = W) #取消按钮控件加载\n",
    "\n",
    "\n",
    "tk.mainloop()\n",
    "\n",
    "\n",
    "sock.close()\n"
   ]
  },
  {
   "cell_type": "code",
   "execution_count": 2,
   "metadata": {},
   "outputs": [
    {
     "name": "stdout",
     "output_type": "stream",
     "text": [
      "服务器端运行开始\n",
      "与客户端连接成功\n",
      "要传输的文件为： test.txt\n",
      "开始传输文件\n",
      "文件传送完毕，正在断开连接...\n",
      "\n",
      "连接已关闭...\n",
      "\n"
     ]
    }
   ],
   "source": [
    "import socket \n",
    "import os\n",
    "import sys\n",
    "import struct\n",
    "\n",
    "# data of socket and file datapath \n",
    "ADDR = ('127.0.0.1',10086)\n",
    "BUFSIZE = 1024\n",
    "filename = 'test.txt'\n",
    "FILEINFO_SIZE=struct.calcsize('128s32sI8s')\n",
    "\n",
    "# 发送文件\n",
    "def Send_File():\n",
    "    sendSock = socket.socket(socket.AF_INET,socket.SOCK_STREAM)\n",
    "    print('服务器端运行开始')\n",
    "    sendSock.connect(ADDR)\n",
    "    print('与客户端连接成功')\n",
    "    print('要传输的文件为：',filename)\n",
    "    fhead=struct.pack('128s11I',filename.encode('utf-8'),0,0,0,0,0,0,0,0,os.stat(filename).st_size,0,0)\n",
    "    print('开始传输文件')\n",
    "    sendSock.send(fhead)\n",
    "    fp = open(filename,'rb')\n",
    "\n",
    "    while 1:\n",
    "        filedata = fp.read(BUFSIZE)\n",
    "        if not filedata: \n",
    "            break\n",
    "        sendSock.send(filedata)\n",
    "    print(u\"文件传送完毕，正在断开连接...\\n\")\n",
    "\n",
    "    fp.close()\n",
    "    sendSock.close()\n",
    "    print(u\"连接已关闭...\\n\" )\n",
    "\n",
    "if __name__ == '__main__':\n",
    "    Send_File()\n"
   ]
  },
  {
   "cell_type": "code",
   "execution_count": null,
   "metadata": {},
   "outputs": [],
   "source": []
  }
 ],
 "metadata": {
  "kernelspec": {
   "display_name": "Python 3",
   "language": "python",
   "name": "python3"
  },
  "language_info": {
   "codemirror_mode": {
    "name": "ipython",
    "version": 3
   },
   "file_extension": ".py",
   "mimetype": "text/x-python",
   "name": "python",
   "nbconvert_exporter": "python",
   "pygments_lexer": "ipython3",
   "version": "3.7.1"
  }
 },
 "nbformat": 4,
 "nbformat_minor": 2
}
